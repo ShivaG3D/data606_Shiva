{
 "cells": [
  {
   "cell_type": "markdown",
   "id": "8a00bd3b",
   "metadata": {},
   "source": [
    "Created a Jupyter Notebook named \"initial_data_exploration.ipynb\" and perform preliminary data exploration. For example:\n",
    "\n",
    "1) Read the datasets into dataframes.\n",
    "\n",
    "2) Find out number of observatoins and columns,\n",
    "\n",
    "3) Column data types,\n",
    "\n",
    "4) Check for number of unique categories for categorical variables.\n",
    "\n",
    "5) Check for missing values\n",
    "\n",
    "6) Identify potential features for machine learning (some columns may not have predictive power)\n",
    "\n",
    "7) Identify the target column \n",
    "\n",
    "8) Look at the distribution of the target columns. for categorical type, find out if it is imblanced. For numeric type, see how it is distributed  (summary statistics, boxplot, histogram).\n",
    "\n",
    "This notebook must be well formatted/styled with Markdown cells, code cells along with results. It must be checked into GitHub as part of the submission."
   ]
  },
  {
   "cell_type": "code",
   "execution_count": 1,
   "id": "aa0d7139",
   "metadata": {},
   "outputs": [],
   "source": [
    "#importing the needed packages\n",
    "import pandas as pd\n",
    "import numpy as np\n",
    "import matplotlib.pyplot as plt\n",
    "plt.rc('figure' , figsize=(12,6))\n",
    "import seaborn as sns"
   ]
  },
  {
   "cell_type": "markdown",
   "id": "e2339969",
   "metadata": {},
   "source": [
    "## Online Retail Data Set"
   ]
  },
  {
   "cell_type": "code",
   "execution_count": 35,
   "id": "9470ab3c",
   "metadata": {},
   "outputs": [],
   "source": [
    "onlineRetail = pd.read_excel(\"./data/online_retail_II.xlsx\")"
   ]
  },
  {
   "cell_type": "code",
   "execution_count": 36,
   "id": "03e6825a",
   "metadata": {},
   "outputs": [
    {
     "data": {
      "text/html": [
       "<div>\n",
       "<style scoped>\n",
       "    .dataframe tbody tr th:only-of-type {\n",
       "        vertical-align: middle;\n",
       "    }\n",
       "\n",
       "    .dataframe tbody tr th {\n",
       "        vertical-align: top;\n",
       "    }\n",
       "\n",
       "    .dataframe thead th {\n",
       "        text-align: right;\n",
       "    }\n",
       "</style>\n",
       "<table border=\"1\" class=\"dataframe\">\n",
       "  <thead>\n",
       "    <tr style=\"text-align: right;\">\n",
       "      <th></th>\n",
       "      <th>Quantity</th>\n",
       "      <th>Price</th>\n",
       "      <th>Customer ID</th>\n",
       "    </tr>\n",
       "  </thead>\n",
       "  <tbody>\n",
       "    <tr>\n",
       "      <th>count</th>\n",
       "      <td>525461.000000</td>\n",
       "      <td>525461.000000</td>\n",
       "      <td>417534.000000</td>\n",
       "    </tr>\n",
       "    <tr>\n",
       "      <th>mean</th>\n",
       "      <td>10.337667</td>\n",
       "      <td>4.688834</td>\n",
       "      <td>15360.645478</td>\n",
       "    </tr>\n",
       "    <tr>\n",
       "      <th>std</th>\n",
       "      <td>107.424110</td>\n",
       "      <td>146.126914</td>\n",
       "      <td>1680.811316</td>\n",
       "    </tr>\n",
       "    <tr>\n",
       "      <th>min</th>\n",
       "      <td>-9600.000000</td>\n",
       "      <td>-53594.360000</td>\n",
       "      <td>12346.000000</td>\n",
       "    </tr>\n",
       "    <tr>\n",
       "      <th>25%</th>\n",
       "      <td>1.000000</td>\n",
       "      <td>1.250000</td>\n",
       "      <td>13983.000000</td>\n",
       "    </tr>\n",
       "    <tr>\n",
       "      <th>50%</th>\n",
       "      <td>3.000000</td>\n",
       "      <td>2.100000</td>\n",
       "      <td>15311.000000</td>\n",
       "    </tr>\n",
       "    <tr>\n",
       "      <th>75%</th>\n",
       "      <td>10.000000</td>\n",
       "      <td>4.210000</td>\n",
       "      <td>16799.000000</td>\n",
       "    </tr>\n",
       "    <tr>\n",
       "      <th>max</th>\n",
       "      <td>19152.000000</td>\n",
       "      <td>25111.090000</td>\n",
       "      <td>18287.000000</td>\n",
       "    </tr>\n",
       "  </tbody>\n",
       "</table>\n",
       "</div>"
      ],
      "text/plain": [
       "            Quantity          Price    Customer ID\n",
       "count  525461.000000  525461.000000  417534.000000\n",
       "mean       10.337667       4.688834   15360.645478\n",
       "std       107.424110     146.126914    1680.811316\n",
       "min     -9600.000000  -53594.360000   12346.000000\n",
       "25%         1.000000       1.250000   13983.000000\n",
       "50%         3.000000       2.100000   15311.000000\n",
       "75%        10.000000       4.210000   16799.000000\n",
       "max     19152.000000   25111.090000   18287.000000"
      ]
     },
     "execution_count": 36,
     "metadata": {},
     "output_type": "execute_result"
    }
   ],
   "source": [
    "onlineRetail.describe()"
   ]
  },
  {
   "cell_type": "code",
   "execution_count": 20,
   "id": "e2e94299",
   "metadata": {},
   "outputs": [
    {
     "data": {
      "text/plain": [
       "Invoice             0\n",
       "StockCode           0\n",
       "Description      2928\n",
       "Quantity            0\n",
       "InvoiceDate         0\n",
       "Price               0\n",
       "Customer ID    107927\n",
       "Country             0\n",
       "dtype: int64"
      ]
     },
     "execution_count": 20,
     "metadata": {},
     "output_type": "execute_result"
    }
   ],
   "source": [
    "onlineRetail.isnull().sum(axis=0)"
   ]
  },
  {
   "cell_type": "code",
   "execution_count": 21,
   "id": "c25ebd54",
   "metadata": {},
   "outputs": [
    {
     "data": {
      "text/plain": [
       "(525461, 8)"
      ]
     },
     "execution_count": 21,
     "metadata": {},
     "output_type": "execute_result"
    }
   ],
   "source": [
    "#Drop items with no description and Customer ID\n",
    "onlineRetail.shape"
   ]
  },
  {
   "cell_type": "code",
   "execution_count": 27,
   "id": "fa5f1ea3",
   "metadata": {},
   "outputs": [],
   "source": [
    "onlineRetail.dropna(axis=0, how='any', thresh=None, subset=None, inplace=True)\n",
    "#https://www.w3resource.com/pandas/dataframe/dataframe-dropna.php"
   ]
  },
  {
   "cell_type": "code",
   "execution_count": 28,
   "id": "b2b03ccc",
   "metadata": {},
   "outputs": [
    {
     "data": {
      "text/plain": [
       "(417534, 8)"
      ]
     },
     "execution_count": 28,
     "metadata": {},
     "output_type": "execute_result"
    }
   ],
   "source": [
    "onlineRetail.shape"
   ]
  },
  {
   "cell_type": "code",
   "execution_count": 30,
   "id": "a6d430c9",
   "metadata": {},
   "outputs": [
    {
     "name": "stdout",
     "output_type": "stream",
     "text": [
      "<class 'pandas.core.frame.DataFrame'>\n",
      "Int64Index: 417534 entries, 0 to 525460\n",
      "Data columns (total 8 columns):\n",
      " #   Column       Non-Null Count   Dtype         \n",
      "---  ------       --------------   -----         \n",
      " 0   Invoice      417534 non-null  object        \n",
      " 1   StockCode    417534 non-null  object        \n",
      " 2   Description  417534 non-null  object        \n",
      " 3   Quantity     417534 non-null  int64         \n",
      " 4   InvoiceDate  417534 non-null  datetime64[ns]\n",
      " 5   Price        417534 non-null  float64       \n",
      " 6   Customer ID  417534 non-null  float64       \n",
      " 7   Country      417534 non-null  object        \n",
      "dtypes: datetime64[ns](1), float64(2), int64(1), object(4)\n",
      "memory usage: 28.7+ MB\n"
     ]
    }
   ],
   "source": [
    "onlineRetail.info()"
   ]
  },
  {
   "cell_type": "code",
   "execution_count": 33,
   "id": "d61e41f2",
   "metadata": {},
   "outputs": [
    {
     "name": "stdout",
     "output_type": "stream",
     "text": [
      "Description : ['15CM CHRISTMAS GLASS BALL 20 LIGHTS' 'PINK CHERRY LIGHTS'\n",
      " ' WHITE CHERRY LIGHTS' ... 'BAKING MOULD ROSE MILK CHOCOLATE'\n",
      " 'BAKING MOULD CHOCOLATE CUP CAKES' 'BAKING MOULD EASTER EGG MILK CHOC']\n",
      "Country : ['United Kingdom' 'France' 'USA' 'Belgium' 'Australia' 'EIRE' 'Germany'\n",
      " 'Portugal' 'Japan' 'Denmark' 'Netherlands' 'Poland' 'Spain'\n",
      " 'Channel Islands' 'Italy' 'Cyprus' 'Greece' 'Norway' 'Austria' 'Sweden'\n",
      " 'United Arab Emirates' 'Finland' 'Switzerland' 'Unspecified' 'Nigeria'\n",
      " 'Malta' 'RSA' 'Singapore' 'Bahrain' 'Thailand' 'Israel' 'Lithuania'\n",
      " 'West Indies' 'Korea' 'Brazil' 'Canada' 'Iceland']\n"
     ]
    }
   ],
   "source": [
    "col1 = ['Description','Country']\n",
    "for col in col1:\n",
    "    print('{} : {}'.format(col,onlineRetail[col].unique()))"
   ]
  },
  {
   "cell_type": "code",
   "execution_count": null,
   "id": "7b229bf4",
   "metadata": {},
   "outputs": [],
   "source": []
  }
 ],
 "metadata": {
  "kernelspec": {
   "display_name": "Python 3 (ipykernel)",
   "language": "python",
   "name": "python3"
  },
  "language_info": {
   "codemirror_mode": {
    "name": "ipython",
    "version": 3
   },
   "file_extension": ".py",
   "mimetype": "text/x-python",
   "name": "python",
   "nbconvert_exporter": "python",
   "pygments_lexer": "ipython3",
   "version": "3.9.12"
  }
 },
 "nbformat": 4,
 "nbformat_minor": 5
}
